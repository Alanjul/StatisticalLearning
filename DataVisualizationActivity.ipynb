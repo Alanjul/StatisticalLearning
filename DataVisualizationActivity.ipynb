{
  "cells": [
    {
      "cell_type": "markdown",
      "metadata": {
        "id": "view-in-github",
        "colab_type": "text"
      },
      "source": [
        "<a href=\"https://colab.research.google.com/github/Alanjul/StatisticalLearning/blob/main/DataVisualizationActivity.ipynb\" target=\"_parent\"><img src=\"https://colab.research.google.com/assets/colab-badge.svg\" alt=\"Open In Colab\"/></a>"
      ]
    },
    {
      "cell_type": "code",
      "execution_count": null,
      "metadata": {
        "colab": {
          "base_uri": "https://localhost:8080/",
          "height": 74
        },
        "id": "AGqt0-cIYdi0",
        "outputId": "771785c9-a3ed-4d50-b435-0d55538ba0c7"
      },
      "outputs": [
        {
          "output_type": "display_data",
          "data": {
            "text/plain": [
              "<IPython.core.display.HTML object>"
            ],
            "text/html": [
              "\n",
              "     <input type=\"file\" id=\"files-aa2a1b19-9a6e-4d1e-92d6-ab6d030fecb5\" name=\"files[]\" multiple disabled\n",
              "        style=\"border:none\" />\n",
              "     <output id=\"result-aa2a1b19-9a6e-4d1e-92d6-ab6d030fecb5\">\n",
              "      Upload widget is only available when the cell has been executed in the\n",
              "      current browser session. Please rerun this cell to enable.\n",
              "      </output>\n",
              "      <script>// Copyright 2017 Google LLC\n",
              "//\n",
              "// Licensed under the Apache License, Version 2.0 (the \"License\");\n",
              "// you may not use this file except in compliance with the License.\n",
              "// You may obtain a copy of the License at\n",
              "//\n",
              "//      http://www.apache.org/licenses/LICENSE-2.0\n",
              "//\n",
              "// Unless required by applicable law or agreed to in writing, software\n",
              "// distributed under the License is distributed on an \"AS IS\" BASIS,\n",
              "// WITHOUT WARRANTIES OR CONDITIONS OF ANY KIND, either express or implied.\n",
              "// See the License for the specific language governing permissions and\n",
              "// limitations under the License.\n",
              "\n",
              "/**\n",
              " * @fileoverview Helpers for google.colab Python module.\n",
              " */\n",
              "(function(scope) {\n",
              "function span(text, styleAttributes = {}) {\n",
              "  const element = document.createElement('span');\n",
              "  element.textContent = text;\n",
              "  for (const key of Object.keys(styleAttributes)) {\n",
              "    element.style[key] = styleAttributes[key];\n",
              "  }\n",
              "  return element;\n",
              "}\n",
              "\n",
              "// Max number of bytes which will be uploaded at a time.\n",
              "const MAX_PAYLOAD_SIZE = 100 * 1024;\n",
              "\n",
              "function _uploadFiles(inputId, outputId) {\n",
              "  const steps = uploadFilesStep(inputId, outputId);\n",
              "  const outputElement = document.getElementById(outputId);\n",
              "  // Cache steps on the outputElement to make it available for the next call\n",
              "  // to uploadFilesContinue from Python.\n",
              "  outputElement.steps = steps;\n",
              "\n",
              "  return _uploadFilesContinue(outputId);\n",
              "}\n",
              "\n",
              "// This is roughly an async generator (not supported in the browser yet),\n",
              "// where there are multiple asynchronous steps and the Python side is going\n",
              "// to poll for completion of each step.\n",
              "// This uses a Promise to block the python side on completion of each step,\n",
              "// then passes the result of the previous step as the input to the next step.\n",
              "function _uploadFilesContinue(outputId) {\n",
              "  const outputElement = document.getElementById(outputId);\n",
              "  const steps = outputElement.steps;\n",
              "\n",
              "  const next = steps.next(outputElement.lastPromiseValue);\n",
              "  return Promise.resolve(next.value.promise).then((value) => {\n",
              "    // Cache the last promise value to make it available to the next\n",
              "    // step of the generator.\n",
              "    outputElement.lastPromiseValue = value;\n",
              "    return next.value.response;\n",
              "  });\n",
              "}\n",
              "\n",
              "/**\n",
              " * Generator function which is called between each async step of the upload\n",
              " * process.\n",
              " * @param {string} inputId Element ID of the input file picker element.\n",
              " * @param {string} outputId Element ID of the output display.\n",
              " * @return {!Iterable<!Object>} Iterable of next steps.\n",
              " */\n",
              "function* uploadFilesStep(inputId, outputId) {\n",
              "  const inputElement = document.getElementById(inputId);\n",
              "  inputElement.disabled = false;\n",
              "\n",
              "  const outputElement = document.getElementById(outputId);\n",
              "  outputElement.innerHTML = '';\n",
              "\n",
              "  const pickedPromise = new Promise((resolve) => {\n",
              "    inputElement.addEventListener('change', (e) => {\n",
              "      resolve(e.target.files);\n",
              "    });\n",
              "  });\n",
              "\n",
              "  const cancel = document.createElement('button');\n",
              "  inputElement.parentElement.appendChild(cancel);\n",
              "  cancel.textContent = 'Cancel upload';\n",
              "  const cancelPromise = new Promise((resolve) => {\n",
              "    cancel.onclick = () => {\n",
              "      resolve(null);\n",
              "    };\n",
              "  });\n",
              "\n",
              "  // Wait for the user to pick the files.\n",
              "  const files = yield {\n",
              "    promise: Promise.race([pickedPromise, cancelPromise]),\n",
              "    response: {\n",
              "      action: 'starting',\n",
              "    }\n",
              "  };\n",
              "\n",
              "  cancel.remove();\n",
              "\n",
              "  // Disable the input element since further picks are not allowed.\n",
              "  inputElement.disabled = true;\n",
              "\n",
              "  if (!files) {\n",
              "    return {\n",
              "      response: {\n",
              "        action: 'complete',\n",
              "      }\n",
              "    };\n",
              "  }\n",
              "\n",
              "  for (const file of files) {\n",
              "    const li = document.createElement('li');\n",
              "    li.append(span(file.name, {fontWeight: 'bold'}));\n",
              "    li.append(span(\n",
              "        `(${file.type || 'n/a'}) - ${file.size} bytes, ` +\n",
              "        `last modified: ${\n",
              "            file.lastModifiedDate ? file.lastModifiedDate.toLocaleDateString() :\n",
              "                                    'n/a'} - `));\n",
              "    const percent = span('0% done');\n",
              "    li.appendChild(percent);\n",
              "\n",
              "    outputElement.appendChild(li);\n",
              "\n",
              "    const fileDataPromise = new Promise((resolve) => {\n",
              "      const reader = new FileReader();\n",
              "      reader.onload = (e) => {\n",
              "        resolve(e.target.result);\n",
              "      };\n",
              "      reader.readAsArrayBuffer(file);\n",
              "    });\n",
              "    // Wait for the data to be ready.\n",
              "    let fileData = yield {\n",
              "      promise: fileDataPromise,\n",
              "      response: {\n",
              "        action: 'continue',\n",
              "      }\n",
              "    };\n",
              "\n",
              "    // Use a chunked sending to avoid message size limits. See b/62115660.\n",
              "    let position = 0;\n",
              "    do {\n",
              "      const length = Math.min(fileData.byteLength - position, MAX_PAYLOAD_SIZE);\n",
              "      const chunk = new Uint8Array(fileData, position, length);\n",
              "      position += length;\n",
              "\n",
              "      const base64 = btoa(String.fromCharCode.apply(null, chunk));\n",
              "      yield {\n",
              "        response: {\n",
              "          action: 'append',\n",
              "          file: file.name,\n",
              "          data: base64,\n",
              "        },\n",
              "      };\n",
              "\n",
              "      let percentDone = fileData.byteLength === 0 ?\n",
              "          100 :\n",
              "          Math.round((position / fileData.byteLength) * 100);\n",
              "      percent.textContent = `${percentDone}% done`;\n",
              "\n",
              "    } while (position < fileData.byteLength);\n",
              "  }\n",
              "\n",
              "  // All done.\n",
              "  yield {\n",
              "    response: {\n",
              "      action: 'complete',\n",
              "    }\n",
              "  };\n",
              "}\n",
              "\n",
              "scope.google = scope.google || {};\n",
              "scope.google.colab = scope.google.colab || {};\n",
              "scope.google.colab._files = {\n",
              "  _uploadFiles,\n",
              "  _uploadFilesContinue,\n",
              "};\n",
              "})(self);\n",
              "</script> "
            ]
          },
          "metadata": {}
        },
        {
          "output_type": "stream",
          "name": "stdout",
          "text": [
            "Saving anscombe.csv to anscombe.csv\n"
          ]
        }
      ],
      "source": [
        "# upload anscombe.csv file\n",
        "from google.colab import files\n",
        "uploaded = files.upload()"
      ]
    },
    {
      "cell_type": "code",
      "execution_count": null,
      "metadata": {
        "colab": {
          "base_uri": "https://localhost:8080/"
        },
        "id": "wfYje3P8Yrl_",
        "outputId": "75138946-d630-4dc4-ce5c-be8fcbee6838"
      },
      "outputs": [
        {
          "output_type": "stream",
          "name": "stdout",
          "text": [
            "    x1  x2  x3  x4     y1    y2     y3     y4\n",
            "0   10  10  10   8   8.04  9.14   7.46   6.58\n",
            "1    8   8   8   8   6.95  8.14   6.77   5.76\n",
            "2   13  13  13   8   7.58  8.74  12.74   7.71\n",
            "3    9   9   9   8   8.81  8.77   7.11   8.84\n",
            "4   11  11  11   8   8.33  9.26   7.81   8.47\n",
            "5   14  14  14   8   9.96  8.10   8.84   7.04\n",
            "6    6   6   6   8   7.24  6.13   6.08   5.25\n",
            "7    4   4   4  19   4.26  3.10   5.39  12.50\n",
            "8   12  12  12   8  10.84  9.13   8.15   5.56\n",
            "9    7   7   7   8   4.82  7.26   6.42   7.91\n",
            "10   5   5   5   8   5.68  4.74   5.73   6.89\n"
          ]
        }
      ],
      "source": [
        "# convert anscombe.csv file to pandas format\n",
        "import pandas as pd\n",
        "import io\n",
        "\n",
        "df = pd.read_csv(io.BytesIO(uploaded['anscombe.csv']))\n",
        "print(df)"
      ]
    },
    {
      "cell_type": "code",
      "execution_count": null,
      "metadata": {
        "id": "wf-nuIiL9QtI"
      },
      "outputs": [],
      "source": []
    },
    {
      "cell_type": "code",
      "execution_count": null,
      "metadata": {
        "id": "jnNHY8BQlimA",
        "colab": {
          "base_uri": "https://localhost:8080/"
        },
        "outputId": "e74d72ec-412a-4a19-c1f4-41348a524ee0"
      },
      "outputs": [
        {
          "output_type": "stream",
          "name": "stdout",
          "text": [
            "Index(['x1', 'x2', 'x3', 'x4', 'y1', 'y2', 'y3', 'y4'], dtype='object')\n"
          ]
        }
      ],
      "source": [
        "# Show the columns in the dataset\n",
        "print(df.columns)"
      ]
    },
    {
      "cell_type": "markdown",
      "metadata": {
        "id": "WsjJj1wN9H3B"
      },
      "source": []
    },
    {
      "cell_type": "code",
      "execution_count": null,
      "metadata": {
        "id": "hH3CfoU69FFU"
      },
      "outputs": [],
      "source": []
    },
    {
      "cell_type": "code",
      "execution_count": null,
      "metadata": {
        "id": "sDZUk2uJllRv",
        "colab": {
          "base_uri": "https://localhost:8080/"
        },
        "outputId": "f7350fb8-6a70-4f7f-c85e-8fd2e87fef74"
      },
      "outputs": [
        {
          "output_type": "stream",
          "name": "stdout",
          "text": [
            "9\n",
            "3.3166247903554\n",
            "mean for y1\n",
            "7.500909090909091\n",
            "Hello\n",
            "2.031568135925815\n",
            "PearsonRResult(statistic=np.float64(0.8164205163448396), pvalue=np.float64(0.002169628873078804))\n"
          ]
        }
      ],
      "source": [
        "# Calculate descriptive statistics for x1, y1\n",
        "import statistics\n",
        "from scipy.stats import pearsonr\n",
        "\n",
        "# Convert pandas dataframe into pandas series\n",
        "list1 = df['x1']\n",
        "list2 = df['y1']\n",
        "\n",
        "# Fill out the following function calls with the correct variables\n",
        "\n",
        "# Calculating mean for x1\n",
        "meanx1 = statistics.mean(list1)\n",
        "print(meanx1)\n",
        "\n",
        "# Calculating standard deviation for x1\n",
        "stdevx1 = statistics.stdev(list1)\n",
        "print(stdevx1)\n",
        "\n",
        "# Calculating mean for y1\n",
        "meany1 = statistics.mean(list2)\n",
        "print(meany1)\n",
        "\n",
        "# Calculating standard deviation for y1\n",
        "stdevy1 = statistics.stdev(list2)\n",
        "print(stdevy1)\n",
        "\n",
        "# Calculating pearson correlation for x1 and y1\n",
        "corr1 = pearsonr(list1, list2)\n",
        "print(corr1)\n"
      ]
    },
    {
      "cell_type": "code",
      "execution_count": null,
      "metadata": {
        "id": "jaBcpvsuwxup",
        "colab": {
          "base_uri": "https://localhost:8080/",
          "height": 452
        },
        "outputId": "50589a02-d428-40d7-b4f3-dbc9a8ccdde5"
      },
      "outputs": [
        {
          "output_type": "display_data",
          "data": {
            "text/plain": [
              "<Figure size 640x480 with 1 Axes>"
            ],
            "image/png": "[encoded data removed]"
          },
          "metadata": {}
        }
      ],
      "source": [
        "# Plot the data and overlay a regression line on top of the scatter plot\n",
        "\n",
        "import matplotlib.pyplot as plt\n",
        "import seaborn as sns\n",
        "\n",
        "# Fill in the x and y values below\n",
        "sns.scatterplot(data=df,x=df['x1'],y=df['y1'])\n",
        "p2 = sns.regplot(data=df, x=df['x1'] , y=df['y1'] , line_kws={'color': 'g'})"
      ]
    },
    {
      "cell_type": "markdown",
      "metadata": {
        "id": "RMWnhYA3amSp"
      },
      "source": [
        "This is the end of part 1 of this activity."
      ]
    },
    {
      "cell_type": "markdown",
      "metadata": {
        "id": "eFcJnWSpapUg"
      },
      "source": [
        "Now we will begin part 2 of this activity."
      ]
    },
    {
      "cell_type": "code",
      "execution_count": 38,
      "metadata": {
        "id": "V-A7PfH3055_",
        "colab": {
          "base_uri": "https://localhost:8080/",
          "height": 74
        },
        "outputId": "fabaf84c-a729-4444-c51d-874da37d6ea9"
      },
      "outputs": [
        {
          "output_type": "display_data",
          "data": {
            "text/plain": [
              "<IPython.core.display.HTML object>"
            ],
            "text/html": [
              "\n",
              "     <input type=\"file\" id=\"files-ac505747-6c8d-496b-b84c-33b77d6608bb\" name=\"files[]\" multiple disabled\n",
              "        style=\"border:none\" />\n",
              "     <output id=\"result-ac505747-6c8d-496b-b84c-33b77d6608bb\">\n",
              "      Upload widget is only available when the cell has been executed in the\n",
              "      current browser session. Please rerun this cell to enable.\n",
              "      </output>\n",
              "      <script>// Copyright 2017 Google LLC\n",
              "//\n",
              "// Licensed under the Apache License, Version 2.0 (the \"License\");\n",
              "// you may not use this file except in compliance with the License.\n",
              "// You may obtain a copy of the License at\n",
              "//\n",
              "//      http://www.apache.org/licenses/LICENSE-2.0\n",
              "//\n",
              "// Unless required by applicable law or agreed to in writing, software\n",
              "// distributed under the License is distributed on an \"AS IS\" BASIS,\n",
              "// WITHOUT WARRANTIES OR CONDITIONS OF ANY KIND, either express or implied.\n",
              "// See the License for the specific language governing permissions and\n",
              "// limitations under the License.\n",
              "\n",
              "/**\n",
              " * @fileoverview Helpers for google.colab Python module.\n",
              " */\n",
              "(function(scope) {\n",
              "function span(text, styleAttributes = {}) {\n",
              "  const element = document.createElement('span');\n",
              "  element.textContent = text;\n",
              "  for (const key of Object.keys(styleAttributes)) {\n",
              "    element.style[key] = styleAttributes[key];\n",
              "  }\n",
              "  return element;\n",
              "}\n",
              "\n",
              "// Max number of bytes which will be uploaded at a time.\n",
              "const MAX_PAYLOAD_SIZE = 100 * 1024;\n",
              "\n",
              "function _uploadFiles(inputId, outputId) {\n",
              "  const steps = uploadFilesStep(inputId, outputId);\n",
              "  const outputElement = document.getElementById(outputId);\n",
              "  // Cache steps on the outputElement to make it available for the next call\n",
              "  // to uploadFilesContinue from Python.\n",
              "  outputElement.steps = steps;\n",
              "\n",
              "  return _uploadFilesContinue(outputId);\n",
              "}\n",
              "\n",
              "// This is roughly an async generator (not supported in the browser yet),\n",
              "// where there are multiple asynchronous steps and the Python side is going\n",
              "// to poll for completion of each step.\n",
              "// This uses a Promise to block the python side on completion of each step,\n",
              "// then passes the result of the previous step as the input to the next step.\n",
              "function _uploadFilesContinue(outputId) {\n",
              "  const outputElement = document.getElementById(outputId);\n",
              "  const steps = outputElement.steps;\n",
              "\n",
              "  const next = steps.next(outputElement.lastPromiseValue);\n",
              "  return Promise.resolve(next.value.promise).then((value) => {\n",
              "    // Cache the last promise value to make it available to the next\n",
              "    // step of the generator.\n",
              "    outputElement.lastPromiseValue = value;\n",
              "    return next.value.response;\n",
              "  });\n",
              "}\n",
              "\n",
              "/**\n",
              " * Generator function which is called between each async step of the upload\n",
              " * process.\n",
              " * @param {string} inputId Element ID of the input file picker element.\n",
              " * @param {string} outputId Element ID of the output display.\n",
              " * @return {!Iterable<!Object>} Iterable of next steps.\n",
              " */\n",
              "function* uploadFilesStep(inputId, outputId) {\n",
              "  const inputElement = document.getElementById(inputId);\n",
              "  inputElement.disabled = false;\n",
              "\n",
              "  const outputElement = document.getElementById(outputId);\n",
              "  outputElement.innerHTML = '';\n",
              "\n",
              "  const pickedPromise = new Promise((resolve) => {\n",
              "    inputElement.addEventListener('change', (e) => {\n",
              "      resolve(e.target.files);\n",
              "    });\n",
              "  });\n",
              "\n",
              "  const cancel = document.createElement('button');\n",
              "  inputElement.parentElement.appendChild(cancel);\n",
              "  cancel.textContent = 'Cancel upload';\n",
              "  const cancelPromise = new Promise((resolve) => {\n",
              "    cancel.onclick = () => {\n",
              "      resolve(null);\n",
              "    };\n",
              "  });\n",
              "\n",
              "  // Wait for the user to pick the files.\n",
              "  const files = yield {\n",
              "    promise: Promise.race([pickedPromise, cancelPromise]),\n",
              "    response: {\n",
              "      action: 'starting',\n",
              "    }\n",
              "  };\n",
              "\n",
              "  cancel.remove();\n",
              "\n",
              "  // Disable the input element since further picks are not allowed.\n",
              "  inputElement.disabled = true;\n",
              "\n",
              "  if (!files) {\n",
              "    return {\n",
              "      response: {\n",
              "        action: 'complete',\n",
              "      }\n",
              "    };\n",
              "  }\n",
              "\n",
              "  for (const file of files) {\n",
              "    const li = document.createElement('li');\n",
              "    li.append(span(file.name, {fontWeight: 'bold'}));\n",
              "    li.append(span(\n",
              "        `(${file.type || 'n/a'}) - ${file.size} bytes, ` +\n",
              "        `last modified: ${\n",
              "            file.lastModifiedDate ? file.lastModifiedDate.toLocaleDateString() :\n",
              "                                    'n/a'} - `));\n",
              "    const percent = span('0% done');\n",
              "    li.appendChild(percent);\n",
              "\n",
              "    outputElement.appendChild(li);\n",
              "\n",
              "    const fileDataPromise = new Promise((resolve) => {\n",
              "      const reader = new FileReader();\n",
              "      reader.onload = (e) => {\n",
              "        resolve(e.target.result);\n",
              "      };\n",
              "      reader.readAsArrayBuffer(file);\n",
              "    });\n",
              "    // Wait for the data to be ready.\n",
              "    let fileData = yield {\n",
              "      promise: fileDataPromise,\n",
              "      response: {\n",
              "        action: 'continue',\n",
              "      }\n",
              "    };\n",
              "\n",
              "    // Use a chunked sending to avoid message size limits. See b/62115660.\n",
              "    let position = 0;\n",
              "    do {\n",
              "      const length = Math.min(fileData.byteLength - position, MAX_PAYLOAD_SIZE);\n",
              "      const chunk = new Uint8Array(fileData, position, length);\n",
              "      position += length;\n",
              "\n",
              "      const base64 = btoa(String.fromCharCode.apply(null, chunk));\n",
              "      yield {\n",
              "        response: {\n",
              "          action: 'append',\n",
              "          file: file.name,\n",
              "          data: base64,\n",
              "        },\n",
              "      };\n",
              "\n",
              "      let percentDone = fileData.byteLength === 0 ?\n",
              "          100 :\n",
              "          Math.round((position / fileData.byteLength) * 100);\n",
              "      percent.textContent = `${percentDone}% done`;\n",
              "\n",
              "    } while (position < fileData.byteLength);\n",
              "  }\n",
              "\n",
              "  // All done.\n",
              "  yield {\n",
              "    response: {\n",
              "      action: 'complete',\n",
              "    }\n",
              "  };\n",
              "}\n",
              "\n",
              "scope.google = scope.google || {};\n",
              "scope.google.colab = scope.google.colab || {};\n",
              "scope.google.colab._files = {\n",
              "  _uploadFiles,\n",
              "  _uploadFilesContinue,\n",
              "};\n",
              "})(self);\n",
              "</script> "
            ]
          },
          "metadata": {}
        },
        {
          "output_type": "stream",
          "name": "stdout",
          "text": [
            "Saving Marine_CSV_sample.csv to Marine_CSV_sample.csv\n"
          ]
        }
      ],
      "source": [
        "# Import the csv file\n",
        "# upload Marine_CSV_sample.csv file\n",
        "from google.colab import files\n",
        "uploaded = files.upload()"
      ]
    },
    {
      "cell_type": "code",
      "execution_count": 39,
      "metadata": {
        "id": "NMzy25sab5V7",
        "colab": {
          "base_uri": "https://localhost:8080/"
        },
        "outputId": "35bb4c99-4094-4e18-d42f-ddb92ec707b7"
      },
      "outputs": [
        {
          "output_type": "stream",
          "name": "stdout",
          "text": [
            "   Identification  Latitude  Longitude  Time of Observation  \\\n",
            "0           D5GN6     -35.8        2.9  2015-01-12T00:00:00   \n",
            "1           D5GN6     -35.9        6.9  2015-01-12T12:00:00   \n",
            "2           D5GN6     -35.9        8.6  2015-01-12T18:00:00   \n",
            "3           D5GN6     -35.7       11.9  2015-01-13T06:00:00   \n",
            "4           D5GN6     -35.6       13.7  2015-01-13T12:00:00   \n",
            "5           D5GN6     -35.4       15.5  2015-01-13T18:00:00   \n",
            "6           D5GN6     -35.3       17.1  2015-01-14T00:00:00   \n",
            "7           D5GN6     -35.2       18.6  2015-01-14T06:00:00   \n",
            "8           D5GN6     -35.2       20.3  2015-01-14T12:00:00   \n",
            "9           D5GN6     -35.1       21.8  2015-01-14T18:00:00   \n",
            "10          D5GN6     -34.5       24.8  2015-01-15T06:00:00   \n",
            "11          D5GN6     -34.0       26.3  2015-01-15T12:00:00   \n",
            "12          D5GN6     -33.4       27.5  2015-01-15T18:00:00   \n",
            "13          D5GN6     -32.7       28.5  2015-01-16T00:00:00   \n",
            "14          D5GN6     -31.9       29.5  2015-01-16T06:00:00   \n",
            "15          D5GN6     -30.9       30.4  2015-01-16T12:00:00   \n",
            "16          D5GN6     -29.9       31.3  2015-01-17T06:00:00   \n",
            "17          D5GN6     -29.5       32.7  2015-01-20T12:00:00   \n",
            "18          D5GN6     -28.8       36.2  2015-01-21T00:00:00   \n",
            "19          D5GN6     -28.4       38.1  2015-01-21T06:00:00   \n",
            "20          D5GN6     -28.0       39.8  2015-01-21T12:00:00   \n",
            "21          D5GN6     -27.7       41.4  2015-01-21T18:00:00   \n",
            "22          D5GN6     -27.4       42.9  2015-01-22T00:00:00   \n",
            "23          D5GN6     -27.0       44.6  2015-01-22T06:00:00   \n",
            "24          D5GN6     -26.4       46.0  2015-01-22T13:00:00   \n",
            "25          D5GN6     -25.6       47.8  2015-01-22T18:00:00   \n",
            "26          D5GN6     -24.8       49.5  2015-01-23T00:00:00   \n",
            "27          D5GN6     -23.9       51.2  2015-01-23T06:00:00   \n",
            "28          D5GN6     -22.5       54.2  2015-01-23T18:00:00   \n",
            "29          D5GN6     -21.7       55.8  2015-01-24T00:00:00   \n",
            "30          D5GN6     -20.8       57.4  2015-01-24T06:00:00   \n",
            "31          D5GN6     -20.1       59.0  2015-01-24T12:00:00   \n",
            "32          D5GN6     -19.3       60.5  2015-01-24T18:00:00   \n",
            "33          D5GN6     -18.5       62.0  2015-01-25T00:00:00   \n",
            "34          D5GN6     -17.8       63.4  2015-01-25T06:00:00   \n",
            "35          D5GN6     -17.0       64.9  2015-01-25T12:00:00   \n",
            "36          D5GN6     -16.2       66.5  2015-01-25T18:00:00   \n",
            "37          D5GN6     -14.7       69.4  2015-01-26T06:00:00   \n",
            "38          D5GN6     -13.2       72.2  2015-01-26T18:00:00   \n",
            "39          D5GN6     -12.4       73.7  2015-01-27T00:00:00   \n",
            "40          D5GN6     -11.6       75.2  2015-01-27T06:00:00   \n",
            "41          D5GN6     -10.8       76.7  2015-01-27T12:00:00   \n",
            "42          D5GN6      -8.9       79.2  2015-01-28T00:00:00   \n",
            "43          D5GN6      -7.9       80.3  2015-01-28T06:00:00   \n",
            "44          D5GN6      -6.6       81.6  2015-01-28T12:00:00   \n",
            "45          D5GN6      -5.4       82.8  2015-01-28T18:00:00   \n",
            "46          D5GN6      -4.2       84.0  2015-01-29T00:00:00   \n",
            "47          D5GN6      -2.3       86.0  2015-01-29T12:00:00   \n",
            "48          D5GN6      -0.2       88.1  2015-01-30T00:00:00   \n",
            "49          D5GN6       0.8       89.2  2015-01-30T06:00:00   \n",
            "50          D5GN6       2.0       90.4  2015-01-30T12:00:00   \n",
            "51          D5GN6       3.0       91.5  2015-01-30T18:00:00   \n",
            "52          D5GN6       4.2       92.6  2015-01-31T00:00:00   \n",
            "53          D5GN6       5.2       93.6  2015-01-31T06:00:00   \n",
            "54          D5GN6       6.1       94.6  2015-01-31T12:00:00   \n",
            "\n",
            "   Ice Accretion On Ship Thickness of Ice Accretion On Ship  \\\n",
            "0                                                             \n",
            "1                                                             \n",
            "2                                                             \n",
            "3                                                             \n",
            "4                                                             \n",
            "5                                                             \n",
            "6                                                             \n",
            "7                                                             \n",
            "8                                                             \n",
            "9                                                             \n",
            "10                                                            \n",
            "11                                                            \n",
            "12                                                            \n",
            "13                                                            \n",
            "14                                                            \n",
            "15                                                            \n",
            "16                                                            \n",
            "17                                                            \n",
            "18                                                            \n",
            "19                                                            \n",
            "20                                                            \n",
            "21                                                            \n",
            "22                                                            \n",
            "23                                                            \n",
            "24                                                            \n",
            "25                                                            \n",
            "26                                                            \n",
            "27                                                            \n",
            "28                                                            \n",
            "29                                                            \n",
            "30                                                            \n",
            "31                                                            \n",
            "32                                                            \n",
            "33                                                            \n",
            "34                                                            \n",
            "35                                                            \n",
            "36                                                            \n",
            "37                                                            \n",
            "38                                                            \n",
            "39                                                            \n",
            "40                                                            \n",
            "41                                                            \n",
            "42                                                            \n",
            "43                                                            \n",
            "44                                                            \n",
            "45                                                            \n",
            "46                                                            \n",
            "47                                                            \n",
            "48                                                            \n",
            "49                                                            \n",
            "50                                                            \n",
            "51                                                            \n",
            "52                                                            \n",
            "53                                                            \n",
            "54                                                            \n",
            "\n",
            "   Rate of Ice Accretion on Ship Sea Level Pressure  \\\n",
            "0                                             29.83   \n",
            "1                                             29.93   \n",
            "2                                             30.02   \n",
            "3                                             30.14   \n",
            "4                                             30.12   \n",
            "5                                             30.08   \n",
            "6                                             30.01   \n",
            "7                                             29.98   \n",
            "8                                             29.91   \n",
            "9                                             29.88   \n",
            "10                                            29.75   \n",
            "11                                            29.66   \n",
            "12                                            29.54   \n",
            "13                                            29.59   \n",
            "14                                                    \n",
            "15                                            29.53   \n",
            "16                                            29.97   \n",
            "17                                            30.06   \n",
            "18                                            30.05   \n",
            "19                                            30.08   \n",
            "20                                            30.03   \n",
            "21                                            30.06   \n",
            "22                                            30.03   \n",
            "23                                            30.06   \n",
            "24                                            30.00   \n",
            "25                                            30.01   \n",
            "26                                            29.96   \n",
            "27                                            29.95   \n",
            "28                                            29.87   \n",
            "29                                            29.79   \n",
            "30                                            29.84   \n",
            "31                                            29.83   \n",
            "32                                            29.88   \n",
            "33                                            29.85   \n",
            "34                                            29.88   \n",
            "35                                            29.82   \n",
            "36                                            29.87   \n",
            "37                                            29.81   \n",
            "38                                            29.83   \n",
            "39                                            29.75   \n",
            "40                                            29.82   \n",
            "41                                            29.76   \n",
            "42                                            29.78   \n",
            "43                                            29.84   \n",
            "44                                            29.78   \n",
            "45                                            29.86   \n",
            "46                                            29.82   \n",
            "47                                            29.83   \n",
            "48                                            29.87   \n",
            "49                                            29.91   \n",
            "50                                            29.86   \n",
            "51                                            29.90   \n",
            "52                                            29.85   \n",
            "53                                            29.87   \n",
            "54                                            29.80   \n",
            "\n",
            "   Characteristics of Pressure Tendency Pressure Tendency  ...  \\\n",
            "0                                     8               0.0  ...   \n",
            "1                                     1               0.0  ...   \n",
            "2                                     1               0.0  ...   \n",
            "3                                     0               0.0  ...   \n",
            "4                                     8                    ...   \n",
            "5                                     5               0.0  ...   \n",
            "6                                     8               0.0  ...   \n",
            "7                                     3               0.0  ...   \n",
            "8                                     8               0.0  ...   \n",
            "9                                     3               0.0  ...   \n",
            "10                                    3               0.0  ...   \n",
            "11                                    8               0.0  ...   \n",
            "12                                    8               0.0  ...   \n",
            "13                                    8               0.0  ...   \n",
            "14                                                         ...   \n",
            "15                                    8               0.0  ...   \n",
            "16                                    1               0.0  ...   \n",
            "17                                    7               0.0  ...   \n",
            "18                                    7               0.0  ...   \n",
            "19                                    2               0.0  ...   \n",
            "20                                    8               0.0  ...   \n",
            "21                                    2               0.0  ...   \n",
            "22                                    7               0.0  ...   \n",
            "23                                    1               0.0  ...   \n",
            "24                                    7               0.0  ...   \n",
            "25                                    2               0.0  ...   \n",
            "26                                    6               0.0  ...   \n",
            "27                                    0               0.0  ...   \n",
            "28                                    0               0.0  ...   \n",
            "29                                    6               0.0  ...   \n",
            "30                                    0               0.0  ...   \n",
            "31                                    7               0.0  ...   \n",
            "32                                    0               0.0  ...   \n",
            "33                                    5               0.0  ...   \n",
            "34                                    0               0.0  ...   \n",
            "35                                    5               0.0  ...   \n",
            "36                                    1               0.0  ...   \n",
            "37                                    3               0.0  ...   \n",
            "38                                    1               0.0  ...   \n",
            "39                                    5               0.0  ...   \n",
            "40                                    0               0.0  ...   \n",
            "41                                    5               0.0  ...   \n",
            "42                                    3               0.0  ...   \n",
            "43                                    0               0.0  ...   \n",
            "44                                    3               0.0  ...   \n",
            "45                                    0               0.0  ...   \n",
            "46                                    3               0.0  ...   \n",
            "47                                    0               0.0  ...   \n",
            "48                                    3               0.0  ...   \n",
            "49                                    0               0.0  ...   \n",
            "50                                    3               0.0  ...   \n",
            "51                                    8               0.0  ...   \n",
            "52                                    3               0.0  ...   \n",
            "53                                    8               0.0  ...   \n",
            "54                                    2               0.0  ...   \n",
            "\n",
            "   Cloud Height Indicator Cloud Height Middle Cloud Type High Cloud Type  \\\n",
            "0                                    5                                     \n",
            "1                                    2                 1               A   \n",
            "2                                    2                 0               0   \n",
            "3                                    3                 0               0   \n",
            "4                                    5                 7               A   \n",
            "5                                    3                                     \n",
            "6                                    2                 1               A   \n",
            "7                                    3                 0               0   \n",
            "8                                    2                 A               A   \n",
            "9                                    3                 1               5   \n",
            "10                                   4                 1               8   \n",
            "11                                   5                 A               4   \n",
            "12                                   4                 1               8   \n",
            "13                                   A                                     \n",
            "14                                   9                                     \n",
            "15                                   5                 A               A   \n",
            "16                                   3                                     \n",
            "17                                   5                 7               A   \n",
            "18                                   A                                     \n",
            "19                                   5                 7               0   \n",
            "20                                   5                 6               A   \n",
            "21                                   A                 7               A   \n",
            "22                                   A                                     \n",
            "23                                   5                 7               0   \n",
            "24                                   A                                     \n",
            "25                                   A                                     \n",
            "26                                   A                                     \n",
            "27                                   6                 7               0   \n",
            "28                                   A                                     \n",
            "29                                   A                                     \n",
            "30                                   3                 7               1   \n",
            "31                                   A                 A               8   \n",
            "32                                   A                                     \n",
            "33                                   A                                     \n",
            "34                                   4                 0               0   \n",
            "35                                   3                 0               0   \n",
            "36                                   A                                     \n",
            "37                                   3                 6               0   \n",
            "38                                   3                 A               A   \n",
            "39                                   3                 A               A   \n",
            "40                                   3                 2               A   \n",
            "41                                   3                 7               8   \n",
            "42                                   5                 7               0   \n",
            "43                                   5                 7               0   \n",
            "44                                   4                 0               0   \n",
            "45                                   4                 A               A   \n",
            "46                                   3                 0               0   \n",
            "47                                   3                 0               0   \n",
            "48                                   5                 0               8   \n",
            "49                                   6                 6               A   \n",
            "50                                   3                 7               0   \n",
            "51                                   3                 A               A   \n",
            "52                                   4                 3               4   \n",
            "53                                   6                                     \n",
            "54                                   4                 8               8   \n",
            "\n",
            "   Visibility Visibility Indicator Present Weather Past Weather  \\\n",
            "0          97                                    3            2   \n",
            "1          97                                    2            2   \n",
            "2          97                                    2            2   \n",
            "3          98                                    1            2   \n",
            "4          98                                    2            1   \n",
            "5          97                                                     \n",
            "6          97                                    3            2   \n",
            "7          97                                    2            2   \n",
            "8          97                                    2            2   \n",
            "9          97                                    2            0   \n",
            "10         97                                    1            1   \n",
            "11         97                                    1            0   \n",
            "12         97                                   92            9   \n",
            "13         97                                    2            0   \n",
            "14         98                                                     \n",
            "15         97                                    2            0   \n",
            "16         97                                                     \n",
            "17         98                                    3            2   \n",
            "18         98                                    2            0   \n",
            "19         98                                    3            0   \n",
            "20         98                                    2            1   \n",
            "21         98                                    3            0   \n",
            "22         98                                    2            0   \n",
            "23         98                                    3            2   \n",
            "24         97                                    2                \n",
            "25         98                                    3            0   \n",
            "26         98                                    3            2   \n",
            "27         97                                    3            2   \n",
            "28         98                                    3            0   \n",
            "29         97                                   62            0   \n",
            "30         98                                   80            1   \n",
            "31         98                                    1            0   \n",
            "32         98                                    3            0   \n",
            "33         98                                    2            0   \n",
            "34         98                                    3            0   \n",
            "35         98                                    2            2   \n",
            "36         97                                   80            2   \n",
            "37         98                                    1            1   \n",
            "38         97                                   80            2   \n",
            "39         97                                   82            2   \n",
            "40         97                                   90            2   \n",
            "41         97                                    2            2   \n",
            "42         98                                    2            2   \n",
            "43         98                                    3            0   \n",
            "44         98                                    2            0   \n",
            "45         98                                    3            0   \n",
            "46         98                                    3            0   \n",
            "47         98                                    2            0   \n",
            "48         98                                    3            0   \n",
            "49         98                                    2            1   \n",
            "50         97                                    3            2   \n",
            "51         97                                   13            2   \n",
            "52         98                                    3            1   \n",
            "53         97                                    2            1   \n",
            "54         97                                    2            0   \n",
            "\n",
            "   Wind Direction Wind Speed  \n",
            "0             300        139  \n",
            "1             180        165  \n",
            "2             170        154  \n",
            "3             140        118  \n",
            "4             160        123  \n",
            "5             120        118  \n",
            "6             140        139  \n",
            "7             100        154  \n",
            "8              80        129  \n",
            "9              90        154  \n",
            "10             60        139  \n",
            "11             70        139  \n",
            "12             60        232  \n",
            "13             50        154  \n",
            "14             20         87  \n",
            "15             50         93  \n",
            "16            240        180  \n",
            "17            170        103  \n",
            "18            130         67  \n",
            "19            160         72  \n",
            "20            170         77  \n",
            "21            130        103  \n",
            "22            140         77  \n",
            "23            130        103  \n",
            "24            140        113  \n",
            "25            120        113  \n",
            "26            130        113  \n",
            "27            110        123  \n",
            "28            150        159  \n",
            "29            140        165  \n",
            "30             70         87  \n",
            "31             90        113  \n",
            "32             90        139  \n",
            "33            110        129  \n",
            "34            110        139  \n",
            "35            150        108  \n",
            "36            130         41  \n",
            "37             20         82  \n",
            "38            300         57  \n",
            "39            290        185  \n",
            "40            320        103  \n",
            "41             20        463  \n",
            "42            340         51  \n",
            "43            330         31  \n",
            "44            310         10  \n",
            "45            270         26  \n",
            "46             90         10  \n",
            "47            190         26  \n",
            "48            362         10  \n",
            "49            310         36  \n",
            "50            330         36  \n",
            "51            320         46  \n",
            "52            360         57  \n",
            "53             40         82  \n",
            "54             60         87  \n",
            "\n",
            "[55 rows x 33 columns]\n"
          ]
        }
      ],
      "source": [
        "# convert csv file to pandas format\n",
        "import pandas as pd\n",
        "import io\n",
        "\n",
        "df = pd.read_csv(io.BytesIO(uploaded['Marine_CSV_sample.csv']))\n",
        "print(df)"
      ]
    },
    {
      "cell_type": "code",
      "execution_count": 40,
      "metadata": {
        "id": "jt1p19Sabz8n",
        "colab": {
          "base_uri": "https://localhost:8080/"
        },
        "outputId": "893ff4f3-b9e6-4a13-c534-7ac8bb53a870"
      },
      "outputs": [
        {
          "output_type": "stream",
          "name": "stdout",
          "text": [
            "Index(['Identification', 'Latitude', 'Longitude', 'Time of Observation',\n",
            "       'Ice Accretion On Ship', 'Thickness of Ice Accretion On Ship',\n",
            "       'Rate of Ice Accretion on Ship', 'Sea Level Pressure',\n",
            "       'Characteristics of Pressure Tendency', 'Pressure Tendency',\n",
            "       'Air Temperature', 'Wet Bulb Temperature', 'Dew Point Temperature',\n",
            "       'Sea Surface Temperature', 'Wave Direction', 'Wave Period',\n",
            "       'Wave Height', 'Swell Direction', 'Swell Period', 'Swell Height',\n",
            "       'Total Cloud Amount', 'Low Cloud Amount', 'Low Cloud Type',\n",
            "       'Cloud Height Indicator', 'Cloud Height', 'Middle Cloud Type',\n",
            "       'High Cloud Type', 'Visibility', 'Visibility Indicator',\n",
            "       'Present Weather', 'Past Weather', 'Wind Direction', 'Wind Speed'],\n",
            "      dtype='object')\n"
          ]
        }
      ],
      "source": [
        "# Display the columns for this dataset\n",
        "print(df.columns)"
      ]
    },
    {
      "cell_type": "code",
      "execution_count": 41,
      "metadata": {
        "id": "8pFvEPN66X-w",
        "colab": {
          "base_uri": "https://localhost:8080/",
          "height": 467
        },
        "outputId": "679b79fe-342d-4ea6-e6fa-bb4511bb8c10"
      },
      "outputs": [
        {
          "output_type": "execute_result",
          "data": {
            "text/plain": [
              "<Axes: xlabel='Cloud Height', ylabel='count'>"
            ]
          },
          "metadata": {},
          "execution_count": 41
        },
        {
          "output_type": "display_data",
          "data": {
            "text/plain": [
              "<Figure size 640x480 with 1 Axes>"
            ],
            "image/png": "[encoded data removed]"
          },
          "metadata": {}
        }
      ],
      "source": [
        "# Plot by cloud height\n",
        "import seaborn as sns\n",
        "import matplotlib.pyplot as plt\n",
        "\n",
        "sns.countplot(data=df,x=df['Cloud Height'])"
      ]
    },
    {
      "cell_type": "code",
      "execution_count": 42,
      "metadata": {
        "id": "5Wzaw96lAhSV",
        "colab": {
          "base_uri": "https://localhost:8080/",
          "height": 467
        },
        "outputId": "45360cc4-95cd-4334-bc1a-43500d1145b2"
      },
      "outputs": [
        {
          "output_type": "execute_result",
          "data": {
            "text/plain": [
              "<Axes: xlabel='Wind Speed', ylabel='Count'>"
            ]
          },
          "metadata": {},
          "execution_count": 42
        },
        {
          "output_type": "display_data",
          "data": {
            "text/plain": [
              "<Figure size 640x480 with 1 Axes>"
            ],
            "image/png": "[encoded data removed]"
          },
          "metadata": {}
        }
      ],
      "source": [
        "# Plot by wind speed column, experiment with the bins variable\n",
        "sns.histplot(df,x=df['Wind Speed'], bins = 5)"
      ]
    },
    {
      "cell_type": "code",
      "execution_count": 60,
      "metadata": {
        "id": "NQcKTqR0-B09",
        "colab": {
          "base_uri": "https://localhost:8080/",
          "height": 490
        },
        "outputId": "ba50bcb8-20fb-4f3b-b5f2-d437bc1e612c"
      },
      "outputs": [
        {
          "output_type": "execute_result",
          "data": {
            "text/plain": [
              "Text(0.5, 1.0, 'Wind speed measurements')"
            ]
          },
          "metadata": {},
          "execution_count": 60
        },
        {
          "output_type": "display_data",
          "data": {
            "text/plain": [
              "<Figure size 640x480 with 1 Axes>"
            ],
            "image/png": "[encoded data removed]"
          },
          "metadata": {}
        }
      ],
      "source": [
        "# Plot by wind speed column, now add x and y axes labels to make more professional\n",
        "sns.histplot(df,x=df['Wind Speed'], bins = 20)\n",
        "plt.xlabel(\"Wind Speed (m/s)\") # Add a label to the x axis\n",
        "plt.ylabel(\"Number of measurements\") # Add a label to the y axis\n",
        "plt.title(\"Wind speed measurements\") # Add a title"
      ]
    },
    {
      "cell_type": "code",
      "execution_count": null,
      "metadata": {
        "id": "XSH1RLxp0FUc"
      },
      "outputs": [],
      "source": [
        "# With your group, come up with a question that you want to ask about the data in this file.\n",
        "# Then use Colab and data visualization to create a figure that answers this question."
      ]
    },
    {
      "cell_type": "code",
      "source": [
        "plt.hist(df['Dew Point Temperature'], bins=20, edgecolor='black', width=0.6)  # Histogram with 20 bins\n",
        "plt.xlabel(\"Dew Point Temperature\")\n",
        "plt.ylabel(\"Frequency\")\n",
        "plt.title(\"Distribution of Dew Point Temperature\")\n",
        "plt.xticks(rotation=90)\n",
        "plt.show()"
      ],
      "metadata": {
        "id": "3trn7Hd6KGve",
        "colab": {
          "base_uri": "https://localhost:8080/",
          "height": 489
        },
        "outputId": "d3394b5b-05eb-4109-d528-c150cc3947d3"
      },
      "execution_count": 76,
      "outputs": [
        {
          "output_type": "display_data",
          "data": {
            "text/plain": [
              "<Figure size 640x480 with 1 Axes>"
            ],
            "image/png": "[encoded data removed]"
          },
          "metadata": {}
        }
      ]
    }
  ],
  "metadata": {
    "colab": {
      "provenance": [],
      "include_colab_link": true
    },
    "kernelspec": {
      "display_name": "Python 3",
      "name": "python3"
    },
    "language_info": {
      "name": "python"
    }
  },
  "nbformat": 4,
  "nbformat_minor": 0
}